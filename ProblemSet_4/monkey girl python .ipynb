{
 "cells": [
  {
   "cell_type": "markdown",
   "id": "tight-trinity",
   "metadata": {},
   "source": [
    "# Problem Set 4\n",
    "\n",
    "## CED18I039 - Paleti Krishnasai"
   ]
  },
  {
   "cell_type": "markdown",
   "id": "normal-style",
   "metadata": {},
   "source": [
    "## QUESTION 1\n",
    "**Select a subset of relevant attributes from the given dataset that are necessary to know about the\n",
    "total volume of avocados with product lookup codes (PLU) 4046, 4225, 4770) which are of organic\n",
    "type. (Use AVOCADO dataset)**"
   ]
  },
  {
   "cell_type": "code",
   "execution_count": 1,
   "id": "welsh-plumbing",
   "metadata": {},
   "outputs": [
    {
     "name": "stdout",
     "output_type": "stream",
     "text": [
      "enter a name: naina\n",
      "naina\n",
      "naina\n",
      "naina\n",
      "naina\n",
      "naina\n",
      "naina\n",
      "naina\n",
      "naina\n",
      "naina\n",
      "naina\n",
      "\n"
     ]
    }
   ],
   "source": [
    "name=input(\"enter a name: \")\n",
    "print(10*(name+\"\\n\"))"
   ]
  },
  {
   "cell_type": "code",
   "execution_count": 2,
   "id": "mysterious-obligation",
   "metadata": {},
   "outputs": [
    {
     "name": "stdout",
     "output_type": "stream",
     "text": [
      "enter 5 values: 1 2 3 4 5 6\n",
      "[1.0, 2.0, 3.0, 4.0, 5.0, 6.0]\n",
      "21.0 \n",
      " 3.5\n"
     ]
    }
   ],
   "source": [
    "marks = [float(i) for i in input(\"enter 5 values: \").split()]\n",
    "print(marks)\n",
    "total = marks[0]+marks[1]+marks[2]+marks[3]+marks[4]+marks[5]\n",
    "avg = total/len(marks)\n",
    "print(total,\"\\n\",avg)"
   ]
  },
  {
   "cell_type": "code",
   "execution_count": 3,
   "id": "aquatic-italic",
   "metadata": {},
   "outputs": [
    {
     "name": "stdout",
     "output_type": "stream",
     "text": [
      "enter sub1 mark: 12\n",
      "enter sub1 mark: 13\n",
      "enter sub1 mark: 14\n",
      "enter sub1 mark: 15\n",
      "54.0 13.5\n"
     ]
    }
   ],
   "source": [
    "sub1=float(input(\"enter sub1 mark: \"))\n",
    "sub2=float(input(\"enter sub1 mark: \"))\n",
    "sub3=float(input(\"enter sub1 mark: \"))\n",
    "sub4=float(input(\"enter sub1 mark: \"))\n",
    "total = sub1+sub2+sub3+sub4\n",
    "avg = total/4\n",
    "print(total, avg)"
   ]
  },
  {
   "cell_type": "code",
   "execution_count": 4,
   "id": "lightweight-identity",
   "metadata": {},
   "outputs": [
    {
     "name": "stdout",
     "output_type": "stream",
     "text": [
      "enter the radius: 7\n",
      "43.96 153.86\n"
     ]
    }
   ],
   "source": [
    "radius = float(input(\"enter the radius: \"))\n",
    "peri = 2*3.14*radius\n",
    "area = 3.14*radius**2\n",
    "print(peri, area)"
   ]
  },
  {
   "cell_type": "code",
   "execution_count": 7,
   "id": "right-norway",
   "metadata": {},
   "outputs": [
    {
     "name": "stdout",
     "output_type": "stream",
     "text": [
      "enter principal amount: 100\n",
      "enter rate of interest: 2\n",
      "enter time period: 2\n",
      "amount =  104.0\n"
     ]
    }
   ],
   "source": [
    "princi = float(input(\"enter principal amount: \"))\n",
    "rate = float(input(\"enter rate of interest: \"))\n",
    "time = float(input(\"enter time period: \"))\n",
    "si = princi*rate*time/100\n",
    "print(\"amount = \",si+princi)"
   ]
  },
  {
   "cell_type": "code",
   "execution_count": 9,
   "id": "cognitive-lending",
   "metadata": {},
   "outputs": [
    {
     "name": "stdout",
     "output_type": "stream",
     "text": [
      "enter the length: 5\n",
      "enter the breadth: 3\n",
      "16.0 15.0\n"
     ]
    }
   ],
   "source": [
    "l= float(input(\"enter the length: \"))\n",
    "b = float(input(\"enter the breadth: \"))\n",
    "p = 2*(l+b)\n",
    "a = l*b\n",
    "print(p, a)"
   ]
  },
  {
   "cell_type": "code",
   "execution_count": 14,
   "id": "defined-rehabilitation",
   "metadata": {},
   "outputs": [
    {
     "name": "stdout",
     "output_type": "stream",
     "text": [
      "enter the naina: 5\n",
      "enter the kanna: 2\n",
      "1.0 2.0\n"
     ]
    }
   ],
   "source": [
    "x= float(input(\"enter the naina: \"))\n",
    "y= float(input(\"enter the kanna: \"))\n",
    "print(x%y, x//y)"
   ]
  },
  {
   "cell_type": "code",
   "execution_count": 18,
   "id": "individual-knowing",
   "metadata": {},
   "outputs": [
    {
     "name": "stdout",
     "output_type": "stream",
     "text": [
      "enter the name: l\n",
      "enter the base salary: 456\n",
      "enter the age: -98\n",
      "524.4\n"
     ]
    }
   ],
   "source": [
    "name = (input(\"enter the name: \"))\n",
    "base =float(input(\"enter the base salary: \"))\n",
    "age =float(input(\"enter the age: \"))\n",
    "print(base*1.15)\n",
    "\n"
   ]
  },
  {
   "cell_type": "code",
   "execution_count": 19,
   "id": "immediate-worst",
   "metadata": {},
   "outputs": [
    {
     "name": "stdout",
     "output_type": "stream",
     "text": [
      "230 6000\n"
     ]
    }
   ],
   "source": [
    "a,b=200,30\n",
    "print(a+b,a*b)"
   ]
  },
  {
   "cell_type": "code",
   "execution_count": 21,
   "id": "regional-gibraltar",
   "metadata": {},
   "outputs": [
    {
     "name": "stdout",
     "output_type": "stream",
     "text": [
      "Enter number 1: 5\n",
      "Enter number 2: 6.68\n",
      "6.68 5.0\n"
     ]
    }
   ],
   "source": [
    "n1=float(input(\"Enter number 1: \"))\n",
    "n2=float(input(\"Enter number 2: \"))\n",
    "n1,n2=n2,n1\n",
    "print(n1,n2)"
   ]
  },
  {
   "cell_type": "code",
   "execution_count": 22,
   "id": "crucial-supplier",
   "metadata": {},
   "outputs": [
    {
     "name": "stdout",
     "output_type": "stream",
     "text": [
      "Enter number 1: 9.987\n",
      "Enter number 2: 6.325\n",
      "6.325 9.987\n"
     ]
    }
   ],
   "source": [
    "n1=float(input(\"Enter number 1: \"))\n",
    "n2=float(input(\"Enter number 2: \"))\n",
    "c = n1\n",
    "n1 = n2\n",
    "n2 =c\n",
    "print(n1,n2)"
   ]
  },
  {
   "cell_type": "code",
   "execution_count": 23,
   "id": "aging-shadow",
   "metadata": {},
   "outputs": [
    {
     "name": "stdout",
     "output_type": "stream",
     "text": [
      "Enter number 1: 56.98\n",
      "Enter number 2: -69.5\n",
      "-69.5 56.98\n"
     ]
    }
   ],
   "source": [
    "n1=float(input(\"Enter number 1: \"))\n",
    "n2=float(input(\"Enter number 2: \"))\n",
    "n1=n1+n2\n",
    "n2=n1-n2\n",
    "n1=n1-n2\n",
    "print(n1,n2)"
   ]
  },
  {
   "cell_type": "code",
   "execution_count": null,
   "id": "august-speech",
   "metadata": {},
   "outputs": [],
   "source": []
  }
 ],
 "metadata": {
  "kernelspec": {
   "display_name": "Python 3",
   "language": "python",
   "name": "python3"
  },
  "language_info": {
   "codemirror_mode": {
    "name": "ipython",
    "version": 3
   },
   "file_extension": ".py",
   "mimetype": "text/x-python",
   "name": "python",
   "nbconvert_exporter": "python",
   "pygments_lexer": "ipython3",
   "version": "3.8.10"
  }
 },
 "nbformat": 4,
 "nbformat_minor": 5
}
