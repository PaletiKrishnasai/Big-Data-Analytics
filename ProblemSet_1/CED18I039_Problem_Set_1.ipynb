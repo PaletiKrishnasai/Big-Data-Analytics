{
 "cells": [
  {
   "cell_type": "markdown",
   "id": "sunset-bedroom",
   "metadata": {},
   "source": [
    "# Problem Set 1 \n",
    "\n",
    "## CED18I039 - Paleti Krishnasai"
   ]
  },
  {
   "cell_type": "markdown",
   "id": "printable-impression",
   "metadata": {},
   "source": [
    "## (1)\n",
    "Given the following setup {Class, Tally score, Frequency}, develop an application that generates\n",
    "the table shown; (you can populate the relevant data; minimum data size :50 records). The table is only\n",
    "an illustration for a data of color scores, you are free to test the application over any data set with the\n",
    "application generating the tally and frequency scores."
   ]
  },
  {
   "cell_type": "code",
   "execution_count": 1,
   "id": "judicial-equipment",
   "metadata": {},
   "outputs": [],
   "source": [
    "import random"
   ]
  },
  {
   "cell_type": "code",
   "execution_count": 2,
   "id": "alpine-network",
   "metadata": {},
   "outputs": [],
   "source": [
    "def tally(value):\n",
    "    five = '||||\\ '\n",
    "    tally = five * int(value/5) + '|' * (value%5)\n",
    "    return tally"
   ]
  },
  {
   "cell_type": "code",
   "execution_count": 3,
   "id": "unable-preservation",
   "metadata": {},
   "outputs": [],
   "source": [
    "def countdata(data):\n",
    "    frequncy={}\n",
    "    frequncy['1']=0\n",
    "    frequncy['2']=0\n",
    "    frequncy['3']=0\n",
    "    frequncy['other']=0\n",
    "    for i in data:\n",
    "        if i in [1,2,3]:\n",
    "            frequncy[str(i)] += 1\n",
    "        else:\n",
    "            frequncy['other'] += 1\n",
    "    return frequncy\n",
    "    "
   ]
  },
  {
   "cell_type": "code",
   "execution_count": 4,
   "id": "plastic-peripheral",
   "metadata": {},
   "outputs": [
    {
     "name": "stdout",
     "output_type": "stream",
     "text": [
      "1\t||||\t\t4\n",
      "2\t||||\\ ||||\\ \t\t10\n",
      "3\t||||\\ ||||\\ \t\t10\n",
      "other\t||||\\ ||||\\ ||||\\ ||||\\ ||||\\ |\t\t26\n"
     ]
    }
   ],
   "source": [
    "data=[]\n",
    "tot=50\n",
    "for i in range(tot):\n",
    "    data.append(random.randint(1,6))\n",
    "colors=['1','2','3','other']\n",
    "frequency = countdata(data)\n",
    "\n",
    "for j in colors:\n",
    "    print(j + \"\\t\"+tally(frequency[j])+\"\\t\\t\"+str(frequency[j]) )"
   ]
  },
  {
   "cell_type": "markdown",
   "id": "smart-handy",
   "metadata": {},
   "source": [
    "--------------------------------------------------------------------------------------------------------"
   ]
  },
  {
   "cell_type": "markdown",
   "id": "frozen-service",
   "metadata": {},
   "source": [
    "## (2) ## \n",
    "In a class of 18 students, assume marks distribution in an exam are as follows. Let the roll numbers\n",
    "start with CSE20D01 and all the odd roll numbers secure marks as follows: 25+((i+7)%10) and even\n",
    "roll numbers : 25+((i+8)%10). Develop an application that sets up the data and calculate the mean and\n",
    "median for the marks obtained using the platform support."
   ]
  },
  {
   "cell_type": "code",
   "execution_count": 5,
   "id": "worldwide-sheffield",
   "metadata": {},
   "outputs": [],
   "source": [
    "def generatedata(students,rolltemplate):\n",
    "    marks=[]\n",
    "    rollno = []\n",
    "    for i in range(1,students+1):\n",
    "        zero = '0' * (len(str(students))-len(str(i)))\n",
    "        rollno_temp = rolltemplate + zero + str(i)\n",
    "        mark_temp = 0\n",
    "        if i%2 == 0:\n",
    "            mark_temp = 25 +((i+8)%10)\n",
    "        else:\n",
    "            mark_temp = 25 +((i+7)%10)\n",
    "        marks.append(mark_temp)\n",
    "        rollno.append(rollno_temp)\n",
    "    return marks,rollno\n",
    "        "
   ]
  },
  {
   "cell_type": "code",
   "execution_count": 6,
   "id": "rotary-force",
   "metadata": {},
   "outputs": [],
   "source": [
    "def mean(marks):\n",
    "    sum = 0\n",
    "    for mark in marks:\n",
    "        sum += mark\n",
    "    return sum/len(marks)\n",
    "\n",
    "def median(marks):\n",
    "    sorted_marks = sorted(marks)\n",
    "    if len(sorted_marks)%2==1:\n",
    "        return sorted_marks[int((len(sorted_marks)-1)/2)]\n",
    "    else:\n",
    "        return (sorted_marks[int(len(sorted_marks)/2)] + sorted_marks[int(len(sorted_marks)/2 - 1)]) / 2\n",
    "    "
   ]
  },
  {
   "cell_type": "code",
   "execution_count": 7,
   "id": "listed-quick",
   "metadata": {},
   "outputs": [
    {
     "name": "stdout",
     "output_type": "stream",
     "text": [
      "Enter no of students: 25\n",
      "DATA\n",
      "1:CSE20D01-- 33\n",
      "2:CSE20D02-- 25\n",
      "3:CSE20D03-- 25\n",
      "4:CSE20D04-- 27\n",
      "5:CSE20D05-- 27\n",
      "6:CSE20D06-- 29\n",
      "7:CSE20D07-- 29\n",
      "8:CSE20D08-- 31\n",
      "9:CSE20D09-- 31\n",
      "10:CSE20D10-- 33\n",
      "11:CSE20D11-- 33\n",
      "12:CSE20D12-- 25\n",
      "13:CSE20D13-- 25\n",
      "14:CSE20D14-- 27\n",
      "15:CSE20D15-- 27\n",
      "16:CSE20D16-- 29\n",
      "17:CSE20D17-- 29\n",
      "18:CSE20D18-- 31\n",
      "19:CSE20D19-- 31\n",
      "20:CSE20D20-- 33\n",
      "21:CSE20D21-- 33\n",
      "22:CSE20D22-- 25\n",
      "23:CSE20D23-- 25\n",
      "24:CSE20D24-- 27\n",
      "25:CSE20D25-- 27\n",
      "MEAN:  28.68\n",
      "MEDIAN:  29\n"
     ]
    }
   ],
   "source": [
    "students = int(input(\"Enter no of students: \"))\n",
    "rolltemplate = 'CSE20D'\n",
    "marks,rollno = generatedata(students,rolltemplate)\n",
    "print(\"DATA\")\n",
    "a=0\n",
    "for mark,rollno in zip(marks,rollno):\n",
    "    print(str(a+1)+\":\"+rollno+\"--\",mark)\n",
    "    a+=1\n",
    "print(\"MEAN: \",mean(marks))\n",
    "print(\"MEDIAN: \",median(marks))"
   ]
  },
  {
   "cell_type": "markdown",
   "id": "devoted-halifax",
   "metadata": {},
   "source": [
    "--------------------------------------------------------------------------------------------"
   ]
  },
  {
   "cell_type": "markdown",
   "id": "valued-harvest",
   "metadata": {},
   "source": [
    "## (3) \n",
    "For a sample space of 20 elements, the values are fitted to the line Y=2X+3, X>5. Develop an\n",
    "application that sets up the data and computes the standard deviation of this sample space. (use random\n",
    "number generator supported in your development platform to generate values of X)."
   ]
  },
  {
   "cell_type": "code",
   "execution_count": 8,
   "id": "unlimited-hammer",
   "metadata": {},
   "outputs": [],
   "source": [
    "def GenerateData(data, MaxVal):\n",
    "    X = []\n",
    "    Y = []\n",
    "    for i in range(data):\n",
    "        x = random.randint(6, Maxvalue)\n",
    "        y = (2 * x) + 3\n",
    "        X.append(x)\n",
    "        Y.append(y)\n",
    "    return X, Y\n",
    "\n",
    "def Mean(X):\n",
    "    sum = 0\n",
    "    for x in X:\n",
    "        sum += x\n",
    "    return sum / len(X)\n",
    "\n",
    "def STDDEV(X):\n",
    "    SD = 0.0\n",
    "    mean = Mean(X)\n",
    "    numerator = 0.0\n",
    "    for x in X:\n",
    "        numerator += (x - mean) ** 2\n",
    "    SD = (numerator / len(X)) ** (0.5)\n",
    "    return SD"
   ]
  },
  {
   "cell_type": "code",
   "execution_count": 9,
   "id": "unexpected-salmon",
   "metadata": {},
   "outputs": [
    {
     "name": "stdout",
     "output_type": "stream",
     "text": [
      "Enter no of students: 40\n",
      "DATA\n",
      "1:( 67 , 137 )\n",
      "2:( 77 , 157 )\n",
      "3:( 54 , 111 )\n",
      "4:( 59 , 121 )\n",
      "5:( 98 , 199 )\n",
      "6:( 66 , 135 )\n",
      "7:( 78 , 159 )\n",
      "8:( 84 , 171 )\n",
      "9:( 78 , 159 )\n",
      "10:( 23 , 49 )\n",
      "11:( 13 , 29 )\n",
      "12:( 28 , 59 )\n",
      "13:( 23 , 49 )\n",
      "14:( 82 , 167 )\n",
      "15:( 51 , 105 )\n",
      "16:( 45 , 93 )\n",
      "17:( 91 , 185 )\n",
      "18:( 83 , 169 )\n",
      "19:( 18 , 39 )\n",
      "20:( 16 , 35 )\n",
      "21:( 21 , 45 )\n",
      "22:( 88 , 179 )\n",
      "23:( 8 , 19 )\n",
      "24:( 29 , 61 )\n",
      "25:( 39 , 81 )\n",
      "26:( 64 , 131 )\n",
      "27:( 14 , 31 )\n",
      "28:( 60 , 123 )\n",
      "29:( 77 , 157 )\n",
      "30:( 49 , 101 )\n",
      "31:( 19 , 41 )\n",
      "32:( 43 , 89 )\n",
      "33:( 44 , 91 )\n",
      "34:( 84 , 171 )\n",
      "35:( 94 , 191 )\n",
      "36:( 11 , 25 )\n",
      "37:( 78 , 159 )\n",
      "38:( 41 , 85 )\n",
      "39:( 66 , 135 )\n",
      "40:( 63 , 129 )\n",
      "STDDEV of X:  27.016245112894573\n",
      "STDDEV of Y:  54.03249022578915\n"
     ]
    }
   ],
   "source": [
    "data = int(input(\"Enter no of students: \"))\n",
    "Maxvalue = 100\n",
    "X,Y = GenerateData(data,Maxvalue)\n",
    "print(\"DATA\")\n",
    "a=0\n",
    "for x,y in zip(X,Y):\n",
    "    print(str(a+1)+\":(\",x,\",\",y,\")\")\n",
    "    a+=1\n",
    "print(\"STDDEV of X: \",STDDEV(X))\n",
    "print(\"STDDEV of Y: \",STDDEV(Y))\n"
   ]
  },
  {
   "cell_type": "markdown",
   "id": "fallen-muscle",
   "metadata": {},
   "source": [
    "-------------------------------------------------------------------------------------"
   ]
  },
  {
   "cell_type": "markdown",
   "id": "committed-afternoon",
   "metadata": {},
   "source": [
    "## (4) \n",
    "For a given data of heights of a class, theheights of 15 students are recorded as 167.65, 167, 172, 175,  165,  167,  168,  167,  167.3,  170,  167.5,  170,  167,  169,  and  172.  Develop  an  application  that computes; explore if there are any packages supported in your platform that depicts these measures / their calculations of central tendency in a visual form for ease of understanding. \n",
    "- a. Mean height of the student \n",
    "- b. Median and Mode of the sample space \n",
    "- c. Standard deviation \n",
    "- d. Measure of skewness. [(Mean-Mode)/standard deviation]"
   ]
  },
  {
   "cell_type": "code",
   "execution_count": 10,
   "id": "endless-stupid",
   "metadata": {},
   "outputs": [],
   "source": [
    "import numpy as np\n",
    "import pandas as pd\n",
    "import matplotlib.pyplot as plt"
   ]
  },
  {
   "cell_type": "code",
   "execution_count": 11,
   "id": "comic-perception",
   "metadata": {},
   "outputs": [],
   "source": [
    "X_list = list(range(1,16))\n",
    "Y_list = [167.65, 167, 172, 175, 165, 167, 168, 167, 167.3, 170, 167.5, 170, 167, 169, 172]"
   ]
  },
  {
   "cell_type": "code",
   "execution_count": 12,
   "id": "fluid-joseph",
   "metadata": {},
   "outputs": [
    {
     "data": {
      "text/html": [
       "<div>\n",
       "<style scoped>\n",
       "    .dataframe tbody tr th:only-of-type {\n",
       "        vertical-align: middle;\n",
       "    }\n",
       "\n",
       "    .dataframe tbody tr th {\n",
       "        vertical-align: top;\n",
       "    }\n",
       "\n",
       "    .dataframe thead th {\n",
       "        text-align: right;\n",
       "    }\n",
       "</style>\n",
       "<table border=\"1\" class=\"dataframe\">\n",
       "  <thead>\n",
       "    <tr style=\"text-align: right;\">\n",
       "      <th></th>\n",
       "      <th>X</th>\n",
       "      <th>Y</th>\n",
       "    </tr>\n",
       "  </thead>\n",
       "  <tbody>\n",
       "    <tr>\n",
       "      <th>0</th>\n",
       "      <td>1</td>\n",
       "      <td>167.65</td>\n",
       "    </tr>\n",
       "    <tr>\n",
       "      <th>1</th>\n",
       "      <td>2</td>\n",
       "      <td>167.00</td>\n",
       "    </tr>\n",
       "    <tr>\n",
       "      <th>2</th>\n",
       "      <td>3</td>\n",
       "      <td>172.00</td>\n",
       "    </tr>\n",
       "    <tr>\n",
       "      <th>3</th>\n",
       "      <td>4</td>\n",
       "      <td>175.00</td>\n",
       "    </tr>\n",
       "    <tr>\n",
       "      <th>4</th>\n",
       "      <td>5</td>\n",
       "      <td>165.00</td>\n",
       "    </tr>\n",
       "    <tr>\n",
       "      <th>5</th>\n",
       "      <td>6</td>\n",
       "      <td>167.00</td>\n",
       "    </tr>\n",
       "    <tr>\n",
       "      <th>6</th>\n",
       "      <td>7</td>\n",
       "      <td>168.00</td>\n",
       "    </tr>\n",
       "    <tr>\n",
       "      <th>7</th>\n",
       "      <td>8</td>\n",
       "      <td>167.00</td>\n",
       "    </tr>\n",
       "    <tr>\n",
       "      <th>8</th>\n",
       "      <td>9</td>\n",
       "      <td>167.30</td>\n",
       "    </tr>\n",
       "    <tr>\n",
       "      <th>9</th>\n",
       "      <td>10</td>\n",
       "      <td>170.00</td>\n",
       "    </tr>\n",
       "    <tr>\n",
       "      <th>10</th>\n",
       "      <td>11</td>\n",
       "      <td>167.50</td>\n",
       "    </tr>\n",
       "    <tr>\n",
       "      <th>11</th>\n",
       "      <td>12</td>\n",
       "      <td>170.00</td>\n",
       "    </tr>\n",
       "    <tr>\n",
       "      <th>12</th>\n",
       "      <td>13</td>\n",
       "      <td>167.00</td>\n",
       "    </tr>\n",
       "    <tr>\n",
       "      <th>13</th>\n",
       "      <td>14</td>\n",
       "      <td>169.00</td>\n",
       "    </tr>\n",
       "    <tr>\n",
       "      <th>14</th>\n",
       "      <td>15</td>\n",
       "      <td>172.00</td>\n",
       "    </tr>\n",
       "  </tbody>\n",
       "</table>\n",
       "</div>"
      ],
      "text/plain": [
       "     X       Y\n",
       "0    1  167.65\n",
       "1    2  167.00\n",
       "2    3  172.00\n",
       "3    4  175.00\n",
       "4    5  165.00\n",
       "5    6  167.00\n",
       "6    7  168.00\n",
       "7    8  167.00\n",
       "8    9  167.30\n",
       "9   10  170.00\n",
       "10  11  167.50\n",
       "11  12  170.00\n",
       "12  13  167.00\n",
       "13  14  169.00\n",
       "14  15  172.00"
      ]
     },
     "execution_count": 12,
     "metadata": {},
     "output_type": "execute_result"
    }
   ],
   "source": [
    "dataset = pd.DataFrame({\"X\":X_list,\"Y\":Y_list})\n",
    "dataset"
   ]
  },
  {
   "cell_type": "code",
   "execution_count": 13,
   "id": "primary-million",
   "metadata": {},
   "outputs": [
    {
     "data": {
      "image/png": "[encoded data removed]",
      "text/plain": [
       "<Figure size 432x288 with 1 Axes>"
      ]
     },
     "metadata": {
      "needs_background": "light"
     },
     "output_type": "display_data"
    }
   ],
   "source": [
    "plt.xlim(0,16)\n",
    "plt.scatter(dataset['X'],dataset['Y'])\n",
    "mean=np.mean(Y_list)\n",
    "median=np.median(Y_list)\n",
    "mode=dataset['Y'].mode()[0] # returns a series of descending values, hence choose the top most\n",
    "stddev=dataset['Y'].std()\n",
    "skew= (mean-mode)/stddev\n",
    "\n",
    "plt.hlines(mean,0,16,color='red',linestyle='solid',label='Mean',linewidth=2)\n",
    "plt.hlines(median,0,16,color='green',linestyle='solid',label='Median',linewidth=2)\n",
    "plt.hlines(mode,0,16,color='black',linestyle='dotted',label='Mode',linewidth=2)\n",
    "plt.text(0,160,\"Mean = {:.2f} \\nMedian = {:.2f} \\nMode = {:.2f} \\nStandard Deviation = {:.2f} \\nMeasure of Skewness = {:.2f}\".format(mean,median,mode,stddev,skew))\n",
    "plt.legend()\n",
    "plt.show()\n",
    "#single cell produces overlapped lines along with scatter, multiple cells produce 2 separate scatter plots, data points in one and hlines in another."
   ]
  },
  {
   "cell_type": "markdown",
   "id": "retained-terrain",
   "metadata": {},
   "source": [
    "--------------------------------------------------------------------------------"
   ]
  },
  {
   "cell_type": "markdown",
   "id": "german-glasgow",
   "metadata": {},
   "source": [
    "## (5) \n",
    "In Analytics and Systems of Bigdata course, for a class of 100 students, around 31 students secured\n",
    "‘S’ grade, 29 secured ‘B’ grade, 25 ‘C’ grades, and rest of them secured ‘D’ grades. If the range of each\n",
    "grade is 15 marks. (S for 85 to 100 marks, A for 70 to 85 …). Develop an application that represents\n",
    "the above data: using Pie and Bar graphs."
   ]
  },
  {
   "cell_type": "code",
   "execution_count": 14,
   "id": "interesting-luxembourg",
   "metadata": {},
   "outputs": [
    {
     "data": {
      "image/png": "[encoded data removed]",
      "text/plain": [
       "<Figure size 720x504 with 1 Axes>"
      ]
     },
     "metadata": {},
     "output_type": "display_data"
    }
   ],
   "source": [
    "grades = [\"S\",\"B\",\"C\",\"D\"]\n",
    "students = [31,29,25,15]\n",
    "fig = plt.figure(figsize =(10, 7))\n",
    "plt.pie(students,labels=grades,colors=[\"gold\",\"yellowgreen\",\"lightskyblue\",\"lightcoral\"],autopct='%1.2f%%' )\n",
    "plt.show()"
   ]
  },
  {
   "cell_type": "code",
   "execution_count": 15,
   "id": "korean-record",
   "metadata": {},
   "outputs": [
    {
     "data": {
      "image/png": "[encoded data removed]",
      "text/plain": [
       "<Figure size 432x288 with 1 Axes>"
      ]
     },
     "metadata": {
      "needs_background": "light"
     },
     "output_type": "display_data"
    }
   ],
   "source": [
    "plt.bar(grades,students,color=[\"gold\",\"yellowgreen\",\"lightskyblue\",\"lightcoral\"])\n",
    "plt.xlabel(\"Grades\")\n",
    "plt.ylabel(\"Number of Students\")\n",
    "plt.show()"
   ]
  },
  {
   "cell_type": "markdown",
   "id": "twelve-framing",
   "metadata": {},
   "source": [
    "------------------------------------------------------------------------------------"
   ]
  },
  {
   "cell_type": "markdown",
   "id": "simple-kernel",
   "metadata": {},
   "source": [
    "## (6) \n",
    "On a given day (average basis), a student is observed to spend 33% of time in studying, 30% in\n",
    "sleeping, 18% in playing, 5% for hobby activities, and rest for spending with friends and family. Plot a\n",
    "pie chart showing his daily activities."
   ]
  },
  {
   "cell_type": "code",
   "execution_count": 16,
   "id": "colonial-universe",
   "metadata": {},
   "outputs": [
    {
     "data": {
      "image/png": "[encoded data removed]",
      "text/plain": [
       "<Figure size 720x504 with 1 Axes>"
      ]
     },
     "metadata": {},
     "output_type": "display_data"
    }
   ],
   "source": [
    "Schedule = [\"Studying\",\"Sleeping\",\"Playing\",\"Hobbies\",\"Family\"]\n",
    "Timeshare = [33,30,18,5,14]\n",
    "fig = plt.figure(figsize =(10, 7))\n",
    "plt.pie(Timeshare,labels=Schedule,colors=[\"#FFD700\",\"#9acd32\",\"#87cefa\",\"#f08080\",\"#c773f5\"],autopct='%1.2f%%' )\n",
    "plt.show()"
   ]
  },
  {
   "cell_type": "markdown",
   "id": "special-picking",
   "metadata": {},
   "source": [
    "------------------------------------------------------------------------------------"
   ]
  },
  {
   "cell_type": "markdown",
   "id": "relevant-loading",
   "metadata": {},
   "source": [
    "## (7) \n",
    "Develop an application (absolute grader) that accepts marks scored by 20 students in ASBD course\n",
    "(as a split up of three: Mid Sem (30), End Sem (50) and Assignments(20). Compute the total and use it\n",
    "to grade the students following absolute grading: >=90 – S ; >=80 – A and so on till D. Compute the\n",
    "Class average for total marks in the course and 50% of class average would be fixed as the cut off for\n",
    "E. Generate a frequency table for the grades as well (Table displaying the grades and counts of them)."
   ]
  },
  {
   "cell_type": "markdown",
   "id": "verbal-solution",
   "metadata": {},
   "source": [
    "- Maroon shows failure ( \" U grade \"); similar to a heatmap...cold to warm. \n",
    "- The color scheme is automatic and the least grade ends up with red-maroon shade"
   ]
  },
  {
   "cell_type": "code",
   "execution_count": 52,
   "id": "smaller-arkansas",
   "metadata": {},
   "outputs": [],
   "source": [
    "Midterm = [random.randint(0,30) for i in range(20)]\n",
    "Endterm = [random.randint(0,50) for i in range(20)]\n",
    "Assignment = [random.randint(0,20) for i in range(20)]\n",
    "Marks = np.array([Midterm[i]+Endterm[i]+Assignment[i] for i in range(20)])\n",
    "lettergrade = ['S','A','B','C','D','E','U']\n",
    "\n",
    "def AbsGrader(mark,avg):\n",
    "    if(mark>=90):\n",
    "        return('S')\n",
    "    elif(mark>=80):\n",
    "        return('A')\n",
    "    elif(mark>=70):\n",
    "        return('B')\n",
    "    elif(mark>=60):\n",
    "        return('C')\n",
    "    elif(mark>=50):\n",
    "        return('D')\n",
    "    elif(mark>=(avg/2)):\n",
    "        return('E')\n",
    "    else:\n",
    "        return('U')\n",
    "\n",
    "Grades=[]\n",
    "for i in range(20):\n",
    "    Grades.append(AbsGrader(Marks[i],Marks.mean()))\n",
    "\n",
    "frequency={}\n",
    "frequency['S']=0\n",
    "frequency['A']=0\n",
    "frequency['B']=0\n",
    "frequency['C']=0\n",
    "frequency['D']=0\n",
    "frequency['E']=0\n",
    "frequency['U']=0\n",
    "\n",
    "for i in Grades:\n",
    "    if i in lettergrade:\n",
    "        frequency[str(i)] += 1\n"
   ]
  },
  {
   "cell_type": "code",
   "execution_count": 53,
   "id": "loved-laugh",
   "metadata": {},
   "outputs": [
    {
     "data": {
      "text/plain": [
       "{'S': 0, 'A': 1, 'B': 3, 'C': 5, 'D': 2, 'E': 6, 'U': 3}"
      ]
     },
     "execution_count": 53,
     "metadata": {},
     "output_type": "execute_result"
    }
   ],
   "source": [
    "frequency #testing purpose"
   ]
  },
  {
   "cell_type": "code",
   "execution_count": 54,
   "id": "excess-roots",
   "metadata": {},
   "outputs": [
    {
     "data": {
      "text/html": [
       "<div>\n",
       "<style scoped>\n",
       "    .dataframe tbody tr th:only-of-type {\n",
       "        vertical-align: middle;\n",
       "    }\n",
       "\n",
       "    .dataframe tbody tr th {\n",
       "        vertical-align: top;\n",
       "    }\n",
       "\n",
       "    .dataframe thead th {\n",
       "        text-align: right;\n",
       "    }\n",
       "</style>\n",
       "<table border=\"1\" class=\"dataframe\">\n",
       "  <thead>\n",
       "    <tr style=\"text-align: right;\">\n",
       "      <th></th>\n",
       "      <th>Grade</th>\n",
       "      <th>Frequency</th>\n",
       "    </tr>\n",
       "  </thead>\n",
       "  <tbody>\n",
       "    <tr>\n",
       "      <th>0</th>\n",
       "      <td>S</td>\n",
       "      <td>0</td>\n",
       "    </tr>\n",
       "    <tr>\n",
       "      <th>1</th>\n",
       "      <td>A</td>\n",
       "      <td>1</td>\n",
       "    </tr>\n",
       "    <tr>\n",
       "      <th>2</th>\n",
       "      <td>B</td>\n",
       "      <td>3</td>\n",
       "    </tr>\n",
       "    <tr>\n",
       "      <th>3</th>\n",
       "      <td>C</td>\n",
       "      <td>5</td>\n",
       "    </tr>\n",
       "    <tr>\n",
       "      <th>4</th>\n",
       "      <td>D</td>\n",
       "      <td>2</td>\n",
       "    </tr>\n",
       "    <tr>\n",
       "      <th>5</th>\n",
       "      <td>E</td>\n",
       "      <td>6</td>\n",
       "    </tr>\n",
       "    <tr>\n",
       "      <th>6</th>\n",
       "      <td>U</td>\n",
       "      <td>3</td>\n",
       "    </tr>\n",
       "  </tbody>\n",
       "</table>\n",
       "</div>"
      ],
      "text/plain": [
       "  Grade  Frequency\n",
       "0     S          0\n",
       "1     A          1\n",
       "2     B          3\n",
       "3     C          5\n",
       "4     D          2\n",
       "5     E          6\n",
       "6     U          3"
      ]
     },
     "execution_count": 54,
     "metadata": {},
     "output_type": "execute_result"
    }
   ],
   "source": [
    "dataset = pd.DataFrame(frequency.items(),columns=['Grade', 'Frequency'])\n",
    "dataset"
   ]
  },
  {
   "cell_type": "code",
   "execution_count": 55,
   "id": "clear-musician",
   "metadata": {},
   "outputs": [
    {
     "data": {
      "text/html": [
       "<style  type=\"text/css\" >\n",
       "#T_56438_row0_col0{\n",
       "            background-color:  #9fd8a4;\n",
       "            color:  #000000;\n",
       "        }#T_56438_row1_col0{\n",
       "            background-color:  #fee08b;\n",
       "            color:  #000000;\n",
       "        }#T_56438_row2_col0,#T_56438_row12_col0{\n",
       "            background-color:  #9e0142;\n",
       "            color:  #f1f1f1;\n",
       "        }#T_56438_row3_col0{\n",
       "            background-color:  #c8e99e;\n",
       "            color:  #000000;\n",
       "        }#T_56438_row4_col0{\n",
       "            background-color:  #71c6a5;\n",
       "            color:  #000000;\n",
       "        }#T_56438_row5_col0{\n",
       "            background-color:  #af1446;\n",
       "            color:  #f1f1f1;\n",
       "        }#T_56438_row6_col0,#T_56438_row13_col0{\n",
       "            background-color:  #b5e1a2;\n",
       "            color:  #000000;\n",
       "        }#T_56438_row7_col0{\n",
       "            background-color:  #fff0a6;\n",
       "            color:  #000000;\n",
       "        }#T_56438_row8_col0,#T_56438_row14_col0{\n",
       "            background-color:  #4ba4b1;\n",
       "            color:  #000000;\n",
       "        }#T_56438_row9_col0{\n",
       "            background-color:  #5e4fa2;\n",
       "            color:  #f1f1f1;\n",
       "        }#T_56438_row10_col0{\n",
       "            background-color:  #fdb768;\n",
       "            color:  #000000;\n",
       "        }#T_56438_row11_col0{\n",
       "            background-color:  #94d4a4;\n",
       "            color:  #000000;\n",
       "        }#T_56438_row15_col0,#T_56438_row19_col0{\n",
       "            background-color:  #fdbf6f;\n",
       "            color:  #000000;\n",
       "        }#T_56438_row16_col0{\n",
       "            background-color:  #fbfdb8;\n",
       "            color:  #000000;\n",
       "        }#T_56438_row17_col0{\n",
       "            background-color:  #ee6445;\n",
       "            color:  #000000;\n",
       "        }#T_56438_row18_col0{\n",
       "            background-color:  #fdc776;\n",
       "            color:  #000000;\n",
       "        }</style><table id=\"T_56438_\" ><thead>    <tr>        <th class=\"blank level0\" ></th>        <th class=\"col_heading level0 col0\" >Marks</th>        <th class=\"col_heading level0 col1\" >Grade</th>    </tr></thead><tbody>\n",
       "                <tr>\n",
       "                        <th id=\"T_56438_level0_row0\" class=\"row_heading level0 row0\" >0</th>\n",
       "                        <td id=\"T_56438_row0_col0\" class=\"data row0 col0\" >67</td>\n",
       "                        <td id=\"T_56438_row0_col1\" class=\"data row0 col1\" >C</td>\n",
       "            </tr>\n",
       "            <tr>\n",
       "                        <th id=\"T_56438_level0_row1\" class=\"row_heading level0 row1\" >1</th>\n",
       "                        <td id=\"T_56438_row1_col0\" class=\"data row1 col0\" >48</td>\n",
       "                        <td id=\"T_56438_row1_col1\" class=\"data row1 col1\" >E</td>\n",
       "            </tr>\n",
       "            <tr>\n",
       "                        <th id=\"T_56438_level0_row2\" class=\"row_heading level0 row2\" >2</th>\n",
       "                        <td id=\"T_56438_row2_col0\" class=\"data row2 col0\" >24</td>\n",
       "                        <td id=\"T_56438_row2_col1\" class=\"data row2 col1\" >U</td>\n",
       "            </tr>\n",
       "            <tr>\n",
       "                        <th id=\"T_56438_level0_row3\" class=\"row_heading level0 row3\" >3</th>\n",
       "                        <td id=\"T_56438_row3_col0\" class=\"data row3 col0\" >63</td>\n",
       "                        <td id=\"T_56438_row3_col1\" class=\"data row3 col1\" >C</td>\n",
       "            </tr>\n",
       "            <tr>\n",
       "                        <th id=\"T_56438_level0_row4\" class=\"row_heading level0 row4\" >4</th>\n",
       "                        <td id=\"T_56438_row4_col0\" class=\"data row4 col0\" >71</td>\n",
       "                        <td id=\"T_56438_row4_col1\" class=\"data row4 col1\" >B</td>\n",
       "            </tr>\n",
       "            <tr>\n",
       "                        <th id=\"T_56438_level0_row5\" class=\"row_heading level0 row5\" >5</th>\n",
       "                        <td id=\"T_56438_row5_col0\" class=\"data row5 col0\" >26</td>\n",
       "                        <td id=\"T_56438_row5_col1\" class=\"data row5 col1\" >U</td>\n",
       "            </tr>\n",
       "            <tr>\n",
       "                        <th id=\"T_56438_level0_row6\" class=\"row_heading level0 row6\" >6</th>\n",
       "                        <td id=\"T_56438_row6_col0\" class=\"data row6 col0\" >65</td>\n",
       "                        <td id=\"T_56438_row6_col1\" class=\"data row6 col1\" >C</td>\n",
       "            </tr>\n",
       "            <tr>\n",
       "                        <th id=\"T_56438_level0_row7\" class=\"row_heading level0 row7\" >7</th>\n",
       "                        <td id=\"T_56438_row7_col0\" class=\"data row7 col0\" >51</td>\n",
       "                        <td id=\"T_56438_row7_col1\" class=\"data row7 col1\" >D</td>\n",
       "            </tr>\n",
       "            <tr>\n",
       "                        <th id=\"T_56438_level0_row8\" class=\"row_heading level0 row8\" >8</th>\n",
       "                        <td id=\"T_56438_row8_col0\" class=\"data row8 col0\" >75</td>\n",
       "                        <td id=\"T_56438_row8_col1\" class=\"data row8 col1\" >B</td>\n",
       "            </tr>\n",
       "            <tr>\n",
       "                        <th id=\"T_56438_level0_row9\" class=\"row_heading level0 row9\" >9</th>\n",
       "                        <td id=\"T_56438_row9_col0\" class=\"data row9 col0\" >84</td>\n",
       "                        <td id=\"T_56438_row9_col1\" class=\"data row9 col1\" >A</td>\n",
       "            </tr>\n",
       "            <tr>\n",
       "                        <th id=\"T_56438_level0_row10\" class=\"row_heading level0 row10\" >10</th>\n",
       "                        <td id=\"T_56438_row10_col0\" class=\"data row10 col0\" >43</td>\n",
       "                        <td id=\"T_56438_row10_col1\" class=\"data row10 col1\" >E</td>\n",
       "            </tr>\n",
       "            <tr>\n",
       "                        <th id=\"T_56438_level0_row11\" class=\"row_heading level0 row11\" >11</th>\n",
       "                        <td id=\"T_56438_row11_col0\" class=\"data row11 col0\" >68</td>\n",
       "                        <td id=\"T_56438_row11_col1\" class=\"data row11 col1\" >C</td>\n",
       "            </tr>\n",
       "            <tr>\n",
       "                        <th id=\"T_56438_level0_row12\" class=\"row_heading level0 row12\" >12</th>\n",
       "                        <td id=\"T_56438_row12_col0\" class=\"data row12 col0\" >24</td>\n",
       "                        <td id=\"T_56438_row12_col1\" class=\"data row12 col1\" >U</td>\n",
       "            </tr>\n",
       "            <tr>\n",
       "                        <th id=\"T_56438_level0_row13\" class=\"row_heading level0 row13\" >13</th>\n",
       "                        <td id=\"T_56438_row13_col0\" class=\"data row13 col0\" >65</td>\n",
       "                        <td id=\"T_56438_row13_col1\" class=\"data row13 col1\" >C</td>\n",
       "            </tr>\n",
       "            <tr>\n",
       "                        <th id=\"T_56438_level0_row14\" class=\"row_heading level0 row14\" >14</th>\n",
       "                        <td id=\"T_56438_row14_col0\" class=\"data row14 col0\" >75</td>\n",
       "                        <td id=\"T_56438_row14_col1\" class=\"data row14 col1\" >B</td>\n",
       "            </tr>\n",
       "            <tr>\n",
       "                        <th id=\"T_56438_level0_row15\" class=\"row_heading level0 row15\" >15</th>\n",
       "                        <td id=\"T_56438_row15_col0\" class=\"data row15 col0\" >44</td>\n",
       "                        <td id=\"T_56438_row15_col1\" class=\"data row15 col1\" >E</td>\n",
       "            </tr>\n",
       "            <tr>\n",
       "                        <th id=\"T_56438_level0_row16\" class=\"row_heading level0 row16\" >16</th>\n",
       "                        <td id=\"T_56438_row16_col0\" class=\"data row16 col0\" >55</td>\n",
       "                        <td id=\"T_56438_row16_col1\" class=\"data row16 col1\" >D</td>\n",
       "            </tr>\n",
       "            <tr>\n",
       "                        <th id=\"T_56438_level0_row17\" class=\"row_heading level0 row17\" >17</th>\n",
       "                        <td id=\"T_56438_row17_col0\" class=\"data row17 col0\" >35</td>\n",
       "                        <td id=\"T_56438_row17_col1\" class=\"data row17 col1\" >E</td>\n",
       "            </tr>\n",
       "            <tr>\n",
       "                        <th id=\"T_56438_level0_row18\" class=\"row_heading level0 row18\" >18</th>\n",
       "                        <td id=\"T_56438_row18_col0\" class=\"data row18 col0\" >45</td>\n",
       "                        <td id=\"T_56438_row18_col1\" class=\"data row18 col1\" >E</td>\n",
       "            </tr>\n",
       "            <tr>\n",
       "                        <th id=\"T_56438_level0_row19\" class=\"row_heading level0 row19\" >19</th>\n",
       "                        <td id=\"T_56438_row19_col0\" class=\"data row19 col0\" >44</td>\n",
       "                        <td id=\"T_56438_row19_col1\" class=\"data row19 col1\" >E</td>\n",
       "            </tr>\n",
       "    </tbody></table>"
      ],
      "text/plain": [
       "<pandas.io.formats.style.Styler at 0x7fcd4fa16fd0>"
      ]
     },
     "execution_count": 55,
     "metadata": {},
     "output_type": "execute_result"
    }
   ],
   "source": [
    "rolllist = pd.DataFrame({\"Marks\":Marks,\"Grade\":Grades})\n",
    "rolllist.style.background_gradient(cmap=\"Spectral\")\n"
   ]
  },
  {
   "cell_type": "markdown",
   "id": "hispanic-marble",
   "metadata": {},
   "source": [
    "----------------------------------------------------------------------------------------"
   ]
  },
  {
   "cell_type": "markdown",
   "id": "bigger-philippines",
   "metadata": {},
   "source": [
    "## (8) \n",
    "Extend the application developed in (7) to support relative grading which uses the class average\n",
    "(mean) and standard deviation to compute the cutoffs for various grades as opposed to fixing them\n",
    "statically; you can refer the sample grader (excel sheet) attached to understand the formulas for fixing\n",
    "the cutoffs; the grader would involve, mean, standard deviation, max mark, passed students data mean,\n",
    "etc. Understand the excel grader thoroughly before you try mimicking such an application in your\n",
    "development platform."
   ]
  },
  {
   "cell_type": "markdown",
   "id": "honey-belle",
   "metadata": {},
   "source": [
    "Formulas Required for Relative Grading:\n",
    "\n",
    "- Passing Minimum: 50% of class average. (Minimum marks for passing)\n",
    "- X= Passing Students’ Mean- Passing Minimum.\n",
    "- S_cutoff = Max_Mark – 0.1 *(Max_Mark-Passing Students Mean)\n",
    "- Y= S_cutoff – Passing Students Mean\n",
    "- A_cutoff = Passing Students Mean + Y * (5/8)\n",
    "- B_cutoff = Passing Students Mean + Y * (2/8)\n",
    "- C_cutoff = Passing Students Mean - X * (2/8)\n",
    "- D_cutoff = Passing Students Mean - X * (5/8)\n",
    "- E_cutoff = Passing Minimum"
   ]
  },
  {
   "cell_type": "markdown",
   "id": "quarterly-might",
   "metadata": {},
   "source": [
    "- Maroon shows failure ( \" U grade \"); similar to a heatmap...cold to warm. \n",
    "- The color scheme is automatic and the least grade ends up with red-maroon shade"
   ]
  },
  {
   "cell_type": "code",
   "execution_count": 56,
   "id": "technical-engineer",
   "metadata": {},
   "outputs": [],
   "source": [
    "Mean = Marks.mean()\n",
    "PassingMin = Mean/2\n",
    "PassingMarks = Marks[Marks>PassingMin]\n",
    "PassingMean = PassingMarks.mean()\n",
    "MaxMark = Marks.max()"
   ]
  },
  {
   "cell_type": "code",
   "execution_count": 57,
   "id": "vietnamese-plasma",
   "metadata": {},
   "outputs": [],
   "source": [
    "X = PassingMean - PassingMin\n",
    "S_cutoff = MaxMark - 0.1*(MaxMark-PassingMean)\n",
    "Y = S_cutoff - PassingMean\n",
    "A_cutoff = PassingMean + Y*(5/8)\n",
    "B_cutoff = PassingMean + Y*(2/8)\n",
    "C_cutoff = PassingMean + Y*(2/8)\n",
    "D_cutoff = PassingMean + Y*(5/8)\n",
    "E_cutoff = PassingMin"
   ]
  },
  {
   "cell_type": "code",
   "execution_count": 58,
   "id": "stable-former",
   "metadata": {},
   "outputs": [],
   "source": [
    "#Relative Grader\n",
    "def RelGrader(mark):\n",
    "    if(mark>=S_cutoff):\n",
    "        return('S')\n",
    "    elif(mark>=A_cutoff):\n",
    "        return('A')\n",
    "    elif(mark>=B_cutoff):\n",
    "        return('B')\n",
    "    elif(mark>=C_cutoff):\n",
    "        return('C')\n",
    "    elif(mark>=D_cutoff):\n",
    "        return('D')\n",
    "    elif(mark>=E_cutoff):\n",
    "        return('E')\n",
    "    else:\n",
    "        return('U')\n",
    "\n",
    "Grades_rel=[]\n",
    "for i in range(20):\n",
    "    Grades_rel.append(RelGrader(Marks[i]))"
   ]
  },
  {
   "cell_type": "code",
   "execution_count": 59,
   "id": "packed-chorus",
   "metadata": {},
   "outputs": [],
   "source": [
    "frequency_rel={}\n",
    "frequency_rel['S']=0\n",
    "frequency_rel['A']=0\n",
    "frequency_rel['B']=0\n",
    "frequency_rel['C']=0\n",
    "frequency_rel['D']=0\n",
    "frequency_rel['E']=0\n",
    "frequency_rel['U']=0\n",
    "\n",
    "for i in Grades_rel:\n",
    "    if i in lettergrade:\n",
    "        frequency_rel[str(i)] += 1"
   ]
  },
  {
   "cell_type": "code",
   "execution_count": 60,
   "id": "smoking-bridal",
   "metadata": {},
   "outputs": [
    {
     "data": {
      "text/plain": [
       "{'S': 1, 'A': 2, 'B': 5, 'C': 0, 'D': 0, 'E': 9, 'U': 3}"
      ]
     },
     "execution_count": 60,
     "metadata": {},
     "output_type": "execute_result"
    }
   ],
   "source": [
    "frequency_rel #testing purpose"
   ]
  },
  {
   "cell_type": "code",
   "execution_count": 61,
   "id": "fallen-novel",
   "metadata": {},
   "outputs": [
    {
     "data": {
      "text/html": [
       "<div>\n",
       "<style scoped>\n",
       "    .dataframe tbody tr th:only-of-type {\n",
       "        vertical-align: middle;\n",
       "    }\n",
       "\n",
       "    .dataframe tbody tr th {\n",
       "        vertical-align: top;\n",
       "    }\n",
       "\n",
       "    .dataframe thead th {\n",
       "        text-align: right;\n",
       "    }\n",
       "</style>\n",
       "<table border=\"1\" class=\"dataframe\">\n",
       "  <thead>\n",
       "    <tr style=\"text-align: right;\">\n",
       "      <th></th>\n",
       "      <th>Grade_rel</th>\n",
       "      <th>Frequency</th>\n",
       "    </tr>\n",
       "  </thead>\n",
       "  <tbody>\n",
       "    <tr>\n",
       "      <th>0</th>\n",
       "      <td>S</td>\n",
       "      <td>1</td>\n",
       "    </tr>\n",
       "    <tr>\n",
       "      <th>1</th>\n",
       "      <td>A</td>\n",
       "      <td>2</td>\n",
       "    </tr>\n",
       "    <tr>\n",
       "      <th>2</th>\n",
       "      <td>B</td>\n",
       "      <td>5</td>\n",
       "    </tr>\n",
       "    <tr>\n",
       "      <th>3</th>\n",
       "      <td>C</td>\n",
       "      <td>0</td>\n",
       "    </tr>\n",
       "    <tr>\n",
       "      <th>4</th>\n",
       "      <td>D</td>\n",
       "      <td>0</td>\n",
       "    </tr>\n",
       "    <tr>\n",
       "      <th>5</th>\n",
       "      <td>E</td>\n",
       "      <td>9</td>\n",
       "    </tr>\n",
       "    <tr>\n",
       "      <th>6</th>\n",
       "      <td>U</td>\n",
       "      <td>3</td>\n",
       "    </tr>\n",
       "  </tbody>\n",
       "</table>\n",
       "</div>"
      ],
      "text/plain": [
       "  Grade_rel  Frequency\n",
       "0         S          1\n",
       "1         A          2\n",
       "2         B          5\n",
       "3         C          0\n",
       "4         D          0\n",
       "5         E          9\n",
       "6         U          3"
      ]
     },
     "execution_count": 61,
     "metadata": {},
     "output_type": "execute_result"
    }
   ],
   "source": [
    "dataset1 = pd.DataFrame(frequency_rel.items(),columns=['Grade_rel', 'Frequency'])\n",
    "dataset1"
   ]
  },
  {
   "cell_type": "code",
   "execution_count": 62,
   "id": "exposed-minutes",
   "metadata": {},
   "outputs": [
    {
     "data": {
      "text/html": [
       "<style  type=\"text/css\" >\n",
       "#T_4569d_row0_col0{\n",
       "            background-color:  #9fd8a4;\n",
       "            color:  #000000;\n",
       "        }#T_4569d_row1_col0{\n",
       "            background-color:  #fee08b;\n",
       "            color:  #000000;\n",
       "        }#T_4569d_row2_col0,#T_4569d_row12_col0{\n",
       "            background-color:  #9e0142;\n",
       "            color:  #f1f1f1;\n",
       "        }#T_4569d_row3_col0{\n",
       "            background-color:  #c8e99e;\n",
       "            color:  #000000;\n",
       "        }#T_4569d_row4_col0{\n",
       "            background-color:  #71c6a5;\n",
       "            color:  #000000;\n",
       "        }#T_4569d_row5_col0{\n",
       "            background-color:  #af1446;\n",
       "            color:  #f1f1f1;\n",
       "        }#T_4569d_row6_col0,#T_4569d_row13_col0{\n",
       "            background-color:  #b5e1a2;\n",
       "            color:  #000000;\n",
       "        }#T_4569d_row7_col0{\n",
       "            background-color:  #fff0a6;\n",
       "            color:  #000000;\n",
       "        }#T_4569d_row8_col0,#T_4569d_row14_col0{\n",
       "            background-color:  #4ba4b1;\n",
       "            color:  #000000;\n",
       "        }#T_4569d_row9_col0{\n",
       "            background-color:  #5e4fa2;\n",
       "            color:  #f1f1f1;\n",
       "        }#T_4569d_row10_col0{\n",
       "            background-color:  #fdb768;\n",
       "            color:  #000000;\n",
       "        }#T_4569d_row11_col0{\n",
       "            background-color:  #94d4a4;\n",
       "            color:  #000000;\n",
       "        }#T_4569d_row15_col0,#T_4569d_row19_col0{\n",
       "            background-color:  #fdbf6f;\n",
       "            color:  #000000;\n",
       "        }#T_4569d_row16_col0{\n",
       "            background-color:  #fbfdb8;\n",
       "            color:  #000000;\n",
       "        }#T_4569d_row17_col0{\n",
       "            background-color:  #ee6445;\n",
       "            color:  #000000;\n",
       "        }#T_4569d_row18_col0{\n",
       "            background-color:  #fdc776;\n",
       "            color:  #000000;\n",
       "        }</style><table id=\"T_4569d_\" ><thead>    <tr>        <th class=\"blank level0\" ></th>        <th class=\"col_heading level0 col0\" >Marks</th>        <th class=\"col_heading level0 col1\" >Grade</th>    </tr></thead><tbody>\n",
       "                <tr>\n",
       "                        <th id=\"T_4569d_level0_row0\" class=\"row_heading level0 row0\" >0</th>\n",
       "                        <td id=\"T_4569d_row0_col0\" class=\"data row0 col0\" >67</td>\n",
       "                        <td id=\"T_4569d_row0_col1\" class=\"data row0 col1\" >B</td>\n",
       "            </tr>\n",
       "            <tr>\n",
       "                        <th id=\"T_4569d_level0_row1\" class=\"row_heading level0 row1\" >1</th>\n",
       "                        <td id=\"T_4569d_row1_col0\" class=\"data row1 col0\" >48</td>\n",
       "                        <td id=\"T_4569d_row1_col1\" class=\"data row1 col1\" >E</td>\n",
       "            </tr>\n",
       "            <tr>\n",
       "                        <th id=\"T_4569d_level0_row2\" class=\"row_heading level0 row2\" >2</th>\n",
       "                        <td id=\"T_4569d_row2_col0\" class=\"data row2 col0\" >24</td>\n",
       "                        <td id=\"T_4569d_row2_col1\" class=\"data row2 col1\" >U</td>\n",
       "            </tr>\n",
       "            <tr>\n",
       "                        <th id=\"T_4569d_level0_row3\" class=\"row_heading level0 row3\" >3</th>\n",
       "                        <td id=\"T_4569d_row3_col0\" class=\"data row3 col0\" >63</td>\n",
       "                        <td id=\"T_4569d_row3_col1\" class=\"data row3 col1\" >E</td>\n",
       "            </tr>\n",
       "            <tr>\n",
       "                        <th id=\"T_4569d_level0_row4\" class=\"row_heading level0 row4\" >4</th>\n",
       "                        <td id=\"T_4569d_row4_col0\" class=\"data row4 col0\" >71</td>\n",
       "                        <td id=\"T_4569d_row4_col1\" class=\"data row4 col1\" >B</td>\n",
       "            </tr>\n",
       "            <tr>\n",
       "                        <th id=\"T_4569d_level0_row5\" class=\"row_heading level0 row5\" >5</th>\n",
       "                        <td id=\"T_4569d_row5_col0\" class=\"data row5 col0\" >26</td>\n",
       "                        <td id=\"T_4569d_row5_col1\" class=\"data row5 col1\" >U</td>\n",
       "            </tr>\n",
       "            <tr>\n",
       "                        <th id=\"T_4569d_level0_row6\" class=\"row_heading level0 row6\" >6</th>\n",
       "                        <td id=\"T_4569d_row6_col0\" class=\"data row6 col0\" >65</td>\n",
       "                        <td id=\"T_4569d_row6_col1\" class=\"data row6 col1\" >B</td>\n",
       "            </tr>\n",
       "            <tr>\n",
       "                        <th id=\"T_4569d_level0_row7\" class=\"row_heading level0 row7\" >7</th>\n",
       "                        <td id=\"T_4569d_row7_col0\" class=\"data row7 col0\" >51</td>\n",
       "                        <td id=\"T_4569d_row7_col1\" class=\"data row7 col1\" >E</td>\n",
       "            </tr>\n",
       "            <tr>\n",
       "                        <th id=\"T_4569d_level0_row8\" class=\"row_heading level0 row8\" >8</th>\n",
       "                        <td id=\"T_4569d_row8_col0\" class=\"data row8 col0\" >75</td>\n",
       "                        <td id=\"T_4569d_row8_col1\" class=\"data row8 col1\" >A</td>\n",
       "            </tr>\n",
       "            <tr>\n",
       "                        <th id=\"T_4569d_level0_row9\" class=\"row_heading level0 row9\" >9</th>\n",
       "                        <td id=\"T_4569d_row9_col0\" class=\"data row9 col0\" >84</td>\n",
       "                        <td id=\"T_4569d_row9_col1\" class=\"data row9 col1\" >S</td>\n",
       "            </tr>\n",
       "            <tr>\n",
       "                        <th id=\"T_4569d_level0_row10\" class=\"row_heading level0 row10\" >10</th>\n",
       "                        <td id=\"T_4569d_row10_col0\" class=\"data row10 col0\" >43</td>\n",
       "                        <td id=\"T_4569d_row10_col1\" class=\"data row10 col1\" >E</td>\n",
       "            </tr>\n",
       "            <tr>\n",
       "                        <th id=\"T_4569d_level0_row11\" class=\"row_heading level0 row11\" >11</th>\n",
       "                        <td id=\"T_4569d_row11_col0\" class=\"data row11 col0\" >68</td>\n",
       "                        <td id=\"T_4569d_row11_col1\" class=\"data row11 col1\" >B</td>\n",
       "            </tr>\n",
       "            <tr>\n",
       "                        <th id=\"T_4569d_level0_row12\" class=\"row_heading level0 row12\" >12</th>\n",
       "                        <td id=\"T_4569d_row12_col0\" class=\"data row12 col0\" >24</td>\n",
       "                        <td id=\"T_4569d_row12_col1\" class=\"data row12 col1\" >U</td>\n",
       "            </tr>\n",
       "            <tr>\n",
       "                        <th id=\"T_4569d_level0_row13\" class=\"row_heading level0 row13\" >13</th>\n",
       "                        <td id=\"T_4569d_row13_col0\" class=\"data row13 col0\" >65</td>\n",
       "                        <td id=\"T_4569d_row13_col1\" class=\"data row13 col1\" >B</td>\n",
       "            </tr>\n",
       "            <tr>\n",
       "                        <th id=\"T_4569d_level0_row14\" class=\"row_heading level0 row14\" >14</th>\n",
       "                        <td id=\"T_4569d_row14_col0\" class=\"data row14 col0\" >75</td>\n",
       "                        <td id=\"T_4569d_row14_col1\" class=\"data row14 col1\" >A</td>\n",
       "            </tr>\n",
       "            <tr>\n",
       "                        <th id=\"T_4569d_level0_row15\" class=\"row_heading level0 row15\" >15</th>\n",
       "                        <td id=\"T_4569d_row15_col0\" class=\"data row15 col0\" >44</td>\n",
       "                        <td id=\"T_4569d_row15_col1\" class=\"data row15 col1\" >E</td>\n",
       "            </tr>\n",
       "            <tr>\n",
       "                        <th id=\"T_4569d_level0_row16\" class=\"row_heading level0 row16\" >16</th>\n",
       "                        <td id=\"T_4569d_row16_col0\" class=\"data row16 col0\" >55</td>\n",
       "                        <td id=\"T_4569d_row16_col1\" class=\"data row16 col1\" >E</td>\n",
       "            </tr>\n",
       "            <tr>\n",
       "                        <th id=\"T_4569d_level0_row17\" class=\"row_heading level0 row17\" >17</th>\n",
       "                        <td id=\"T_4569d_row17_col0\" class=\"data row17 col0\" >35</td>\n",
       "                        <td id=\"T_4569d_row17_col1\" class=\"data row17 col1\" >E</td>\n",
       "            </tr>\n",
       "            <tr>\n",
       "                        <th id=\"T_4569d_level0_row18\" class=\"row_heading level0 row18\" >18</th>\n",
       "                        <td id=\"T_4569d_row18_col0\" class=\"data row18 col0\" >45</td>\n",
       "                        <td id=\"T_4569d_row18_col1\" class=\"data row18 col1\" >E</td>\n",
       "            </tr>\n",
       "            <tr>\n",
       "                        <th id=\"T_4569d_level0_row19\" class=\"row_heading level0 row19\" >19</th>\n",
       "                        <td id=\"T_4569d_row19_col0\" class=\"data row19 col0\" >44</td>\n",
       "                        <td id=\"T_4569d_row19_col1\" class=\"data row19 col1\" >E</td>\n",
       "            </tr>\n",
       "    </tbody></table>"
      ],
      "text/plain": [
       "<pandas.io.formats.style.Styler at 0x7fcd4fa68b80>"
      ]
     },
     "execution_count": 62,
     "metadata": {},
     "output_type": "execute_result"
    }
   ],
   "source": [
    "rolllist1 = pd.DataFrame({\"Marks\":Marks,\"Grade\":Grades_rel})\n",
    "rolllist1.style.background_gradient(cmap=\"Spectral\")\n"
   ]
  },
  {
   "cell_type": "markdown",
   "id": "covered-juice",
   "metadata": {},
   "source": [
    "-----------------------------------------------------------------------------------"
   ]
  },
  {
   "cell_type": "markdown",
   "id": "distinct-craft",
   "metadata": {},
   "source": [
    "## (9) \n",
    "Consider the following sample of weights for 45 individuals: 79 71 89 57 76 64 82 82 67 80 81 65\n",
    "73 79 79 60 58 83 74 68 78 80 78 81 76 65 70 76 58 82 59 73 72 79 87 63 74 90 69 70 83 76 61 66 71\n",
    "60 57 81 57 65 81 78 77 81 81 63 71 66 56 62 75 64 74 74 70 71 56 69 63 72 81 54 72 91 92. For the\n",
    "above data generates histograms and depict them using packages in your platform. Explore the different\n",
    "types of histograms available and test drive the types supported in your platform"
   ]
  },
  {
   "cell_type": "code",
   "execution_count": 46,
   "id": "herbal-kitchen",
   "metadata": {},
   "outputs": [],
   "source": [
    "weights = [79,71,89,57,76,64,82,82,67,80 ,81, 65, 73, 79, 79, 60, 58, 83, 74, 68, 78, 80, 78, 81, 76, 65, 70, 76, 58, 82, 59, 73, 72, 79, 87, 63, 74, 90, 69, 70, 83, 76, 61, 66, 71, 60, 57, 81, 57, 65, 81, 78, 77, 81, 81, 63, 71, 66, 56, 62, 75, 64, 74, 74, 70, 71, 56, 69, 63, 72, 81, 54, 72, 91, 92]"
   ]
  },
  {
   "cell_type": "code",
   "execution_count": 47,
   "id": "given-crest",
   "metadata": {},
   "outputs": [
    {
     "data": {
      "image/png": "[encoded data removed]",
      "text/plain": [
       "<Figure size 432x288 with 1 Axes>"
      ]
     },
     "metadata": {
      "needs_background": "light"
     },
     "output_type": "display_data"
    }
   ],
   "source": [
    "# default histogram\n",
    "plt.hist(weights)\n",
    "plt.xlabel(\"Weights\")\n",
    "plt.ylabel(\"Frequency\")\n",
    "plt.show()"
   ]
  },
  {
   "cell_type": "code",
   "execution_count": 48,
   "id": "dominant-proxy",
   "metadata": {},
   "outputs": [
    {
     "data": {
      "image/png": "[encoded data removed]",
      "text/plain": [
       "<Figure size 432x288 with 1 Axes>"
      ]
     },
     "metadata": {
      "needs_background": "light"
     },
     "output_type": "display_data"
    }
   ],
   "source": [
    "# cumulative Histogram\n",
    "plt.hist(weights,cumulative=True)\n",
    "plt.xlabel(\"Weights\")\n",
    "plt.ylabel(\"Frequency\")\n",
    "plt.show()"
   ]
  },
  {
   "cell_type": "code",
   "execution_count": 49,
   "id": "funded-quebec",
   "metadata": {},
   "outputs": [
    {
     "data": {
      "image/png": "[encoded data removed]",
      "text/plain": [
       "<Figure size 432x288 with 1 Axes>"
      ]
     },
     "metadata": {
      "needs_background": "light"
     },
     "output_type": "display_data"
    }
   ],
   "source": [
    "# step histogram\n",
    "plt.hist(weights,histtype=\"step\")\n",
    "plt.xlabel(\"Weights\")\n",
    "plt.ylabel(\"Frequency\")\n",
    "plt.show()"
   ]
  },
  {
   "cell_type": "code",
   "execution_count": 50,
   "id": "therapeutic-harris",
   "metadata": {},
   "outputs": [
    {
     "data": {
      "image/png": "[encoded data removed]",
      "text/plain": [
       "<Figure size 432x288 with 1 Axes>"
      ]
     },
     "metadata": {
      "needs_background": "light"
     },
     "output_type": "display_data"
    }
   ],
   "source": [
    "\n",
    "# barstacked histogram ( same as default in this case )\n",
    "plt.hist(weights,histtype=\"barstacked\")\n",
    "plt.xlabel(\"Weights\")\n",
    "plt.ylabel(\"Frequency\")\n",
    "plt.show()"
   ]
  },
  {
   "cell_type": "code",
   "execution_count": 51,
   "id": "boxed-philadelphia",
   "metadata": {},
   "outputs": [
    {
     "data": {
      "image/png": "[encoded data removed]",
      "text/plain": [
       "<Figure size 432x288 with 1 Axes>"
      ]
     },
     "metadata": {
      "needs_background": "light"
     },
     "output_type": "display_data"
    }
   ],
   "source": [
    "\n",
    "# stepfilled horizontal(orientation can be changed for all the above histograms too) histogram\n",
    "plt.hist(weights,histtype=\"stepfilled\",orientation='horizontal')\n",
    "plt.xlabel(\"Weights\")\n",
    "plt.ylabel(\"Frequency\")\n",
    "plt.show()"
   ]
  },
  {
   "cell_type": "markdown",
   "id": "labeled-omega",
   "metadata": {},
   "source": [
    "--------------------------------------------------------------------------------------------------"
   ]
  }
 ],
 "metadata": {
  "kernelspec": {
   "display_name": "Python 3",
   "language": "python",
   "name": "python3"
  },
  "language_info": {
   "codemirror_mode": {
    "name": "ipython",
    "version": 3
   },
   "file_extension": ".py",
   "mimetype": "text/x-python",
   "name": "python",
   "nbconvert_exporter": "python",
   "pygments_lexer": "ipython3",
   "version": "3.8.10"
  }
 },
 "nbformat": 4,
 "nbformat_minor": 5
}
